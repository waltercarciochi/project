{
 "cells": [
  {
   "cell_type": "code",
   "execution_count": null,
   "metadata": {},
   "outputs": [],
   "source": [
    "#Soil moisture conditions\n",
    "\n",
    "**Background:**\n",
    "\n",
    "A first step in the water balance calculation is to know different moisture conditions of the soil where the crop is growing. Thus, soil\n",
    "water content at drained upper limit (DUP; -0.33 bar) and low limit (LL; -15 bar) are necessary to calculate the plant available water\n",
    "capacity (PAWC) and the water capacity at the critical threshold (CT), value below which crop growth is assumed to be restricted by water\n",
    "availability. The DUP and LL could be measured by the retention curve method but usually, this information is not available, thus an\n",
    "estimation of these soil characteristics could be necessary. \n",
    "\n",
    "**Objective:**\n",
    "\n",
    "Estimate some soil moisture conditions and variables (DUP, LL, PAWC, and CT) from texture and organic matter content. \n",
    "\n",
    "**Outcomes:**\n",
    "Create a model to calculate different soil moisture conditions and variables from some soil characteristics. \n",
    "\n",
    "**Diagram:**"
   ]
  },
  {
   "cell_type": "code",
   "execution_count": null,
   "metadata": {},
   "outputs": [],
   "source": []
  }
 ],
 "metadata": {
  "kernelspec": {
   "display_name": "Python 3",
   "language": "python",
   "name": "python3"
  },
  "language_info": {
   "codemirror_mode": {
    "name": "ipython",
    "version": 3
   },
   "file_extension": ".py",
   "mimetype": "text/x-python",
   "name": "python",
   "nbconvert_exporter": "python",
   "pygments_lexer": "ipython3",
   "version": "3.7.1"
  }
 },
 "nbformat": 4,
 "nbformat_minor": 2
}
